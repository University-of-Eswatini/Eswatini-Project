{
 "cells": [
  {
   "attachments": {},
   "cell_type": "markdown",
   "id": "534636ff",
   "metadata": {},
   "source": [
    "# Installation Guide for Jupyter Labs and Jupyter Books {-}"
   ]
  },
  {
   "attachments": {},
   "cell_type": "markdown",
   "id": "2fedc02a",
   "metadata": {},
   "source": [
    "In this guide we will outline the process in installing Jupyter Labs and Jupyter Books, as well as nbconvert (used to convert Jupyter Notebooks to PDF's and HTML) and any packages required for their operation for the Windows operating system.\n",
    "\n",
    "While other methods exist, this guide will primarily be using Pythons pip installer to install most of the required packages. This will require using the command terminal.\n",
    "\n",
    "You can open the command terminal in the following ways:\n",
    "\n",
    "1. Open your computer's Start menu and search for 'Command Prompt'. You should see it appear in the list of searched items.\n",
    "2. Right click your computer's Start menu. A list of options should appear; selecting 'Terminal' will open the command terminal.\n",
    "3. Pressing '⊞Win + R' will open the 'Run Prompt' window. Type in 'cmd' and press ok, this will open the command terminal."
   ]
  },
  {
   "attachments": {},
   "cell_type": "markdown",
   "id": "157a25ce",
   "metadata": {},
   "source": [
    "### Table of Contents {-}"
   ]
  },
  {
   "attachments": {},
   "cell_type": "markdown",
   "id": "923247ea",
   "metadata": {},
   "source": [
    "1. [Python Installation](#python-installation)\n",
    "\n",
    "2. [Pyppeteer Installation](#pyppeteer-installation)\n",
    "\n",
    "3. [TeX Installation](#tex-installation)\n",
    "\n",
    "4. [nbconvert Installation](#nbconvert-installation)\n",
    "\n",
    "5. [Jupyter Labs Installation](#jupyter-labs-installation)\n",
    "\n",
    "6. [Jupyter Books Installation](#jupyter-books-installation)\n",
    "\n",
    "7. [How to Convert Jupyter Notebooks and Jupyter Books to HTML and PDF](#how-to-convert-jupyter-notebooks-and-jupyter-books-to-html-and-pdf)"
   ]
  },
  {
   "attachments": {},
   "cell_type": "markdown",
   "id": "63d868c2",
   "metadata": {},
   "source": [
    "### Python Installation {-}"
   ]
  },
  {
   "attachments": {},
   "cell_type": "markdown",
   "id": "a7c26b5a",
   "metadata": {},
   "source": [
    "NOTE: Jupyter Books requires Python Version >= 3.7 to operate. However, nbconvert has only been tested, and only supports, Python Versions 3.7 - 3.9. For this reason, it is recomended that if you will be required to convert your Jupyter Notebooks and books to PDF and HTML that you install Python Version 3.9.\n",
    "\n",
    "You can download the newest version of Python here: [Download Python](https://www.python.org/downloads/)\n",
    "\n",
    "Download the installer and follow the instructions in order to install the version of Python you choose (preferably version 3.9 if required to convert Jupyter Materials to PDF and HTML).\n",
    "\n",
    "As we will be using pip to install several required packages, it is important that installing Python is your first step."
   ]
  },
  {
   "attachments": {},
   "cell_type": "markdown",
   "id": "962a3419",
   "metadata": {},
   "source": [
    "### Pyppeteer Installation {-}"
   ]
  },
  {
   "attachments": {},
   "cell_type": "markdown",
   "id": "32de1786",
   "metadata": {},
   "source": [
    "NOTE: Pyppeteer requires Python Version >= 3.6 to operate.\n",
    "\n",
    "In order to convert Jupyter Books to PDF, you will need to install Pyppeteer. Pyppetteer will also be used if you wish to convert Jupyter Notebooks to PDF using the `--to webpdf` command.\n",
    "\n",
    "This can be done using the following pip command in your command terminal:"
   ]
  },
  {
   "cell_type": "code",
   "execution_count": null,
   "id": "1a7618bb",
   "metadata": {
    "vscode": {
     "languageId": "powershell"
    }
   },
   "outputs": [],
   "source": [
    "pip install pyppeteer"
   ]
  },
  {
   "attachments": {},
   "cell_type": "markdown",
   "id": "11501d0c",
   "metadata": {},
   "source": [
    "The documentation for Pyppeteer can be found here: [Pyppeteer Documentation](https://pypi.org/project/pyppeteer/)"
   ]
  },
  {
   "attachments": {},
   "cell_type": "markdown",
   "id": "36e1e3cb",
   "metadata": {},
   "source": [
    "### TeX Installation {-}"
   ]
  },
  {
   "attachments": {},
   "cell_type": "markdown",
   "id": "faaa9f41",
   "metadata": {},
   "source": [
    "In order to convert Jupyter Notebooks to PDF using the `--to pdf` command you will need to install a complete TeX environment.\n",
    "\n",
    "Fortunatly, there are packages/installers to simplify this process:\n",
    "\n",
    "The MiKTeX distribution can be found here: [MiKTeX Distribution](https://miktex.org/download)  \n",
    "Instructions for its installation can be found here: [MiKTeX Installation Instructions](https://miktex.org/howto/install-miktex)\n",
    "\n",
    "The TeX Live distribution and installation instructions can be found here: [TeX Live Distribution](https://www.tug.org/texlive/windows.html)\n",
    "\n",
    "Only one of these distributions is required. If having trouble installing one of the distributions it is recomended you try the other."
   ]
  },
  {
   "attachments": {},
   "cell_type": "markdown",
   "id": "0d1152e6",
   "metadata": {},
   "source": [
    "### nbconvert Installation {-}"
   ]
  },
  {
   "attachments": {},
   "cell_type": "markdown",
   "id": "b833b7a2",
   "metadata": {},
   "source": [
    "NOTE: Nbconvert requires Python Version between (and including) 3.7 and 3.9.\n",
    "\n",
    "In order to convert Jupyter Notebooks to PDF you will need to install nbconvert.\n",
    "\n",
    "This can be done using the following pip command in your command terminal:"
   ]
  },
  {
   "cell_type": "code",
   "execution_count": null,
   "id": "35061129",
   "metadata": {
    "vscode": {
     "languageId": "powershell"
    }
   },
   "outputs": [],
   "source": [
    "pip install nbconvert"
   ]
  },
  {
   "attachments": {},
   "cell_type": "markdown",
   "id": "7c675f84",
   "metadata": {},
   "source": [
    "The documentation for nbconvert can be found here: [nbconvert Documentation](https://nbconvert.readthedocs.io/en/latest/install.html)"
   ]
  },
  {
   "attachments": {},
   "cell_type": "markdown",
   "id": "481dedef",
   "metadata": {},
   "source": [
    "### Jupyter Labs Installation {-}"
   ]
  },
  {
   "attachments": {},
   "cell_type": "markdown",
   "id": "e4dd480e",
   "metadata": {},
   "source": [
    "In order to view, manage, and create your Jupyter Notebooks you will need to install either Jupyter Labs or Jupyter Notebook.\n",
    "\n",
    "Jupyter Labs is prefered, as it comes with all the functionality of Jupyter Notebook while being easier to navigate.\n",
    "\n",
    "You can install Jupyter Labs by using the following pip command in your command terminal:"
   ]
  },
  {
   "cell_type": "code",
   "execution_count": null,
   "id": "fd2f0246",
   "metadata": {
    "vscode": {
     "languageId": "powershell"
    }
   },
   "outputs": [],
   "source": [
    "pip install jupyterlab"
   ]
  },
  {
   "attachments": {},
   "cell_type": "markdown",
   "id": "5a6c12c6",
   "metadata": {},
   "source": [
    "Alternatively, you can install Jupyter Notebook by using the following pip command in your command terminal:"
   ]
  },
  {
   "cell_type": "code",
   "execution_count": null,
   "id": "4d1bd3ba",
   "metadata": {
    "vscode": {
     "languageId": "powershell"
    }
   },
   "outputs": [],
   "source": [
    "pip install notebook"
   ]
  },
  {
   "attachments": {},
   "cell_type": "markdown",
   "id": "a6781552",
   "metadata": {},
   "source": [
    "Installation instructions for these installations can be found here: [Jupyter Labs and Notebook Installation Documentation](https://jupyter.org/install)"
   ]
  },
  {
   "attachments": {},
   "cell_type": "markdown",
   "id": "efdc0212",
   "metadata": {},
   "source": [
    "### Jupyter Books Installation {-}"
   ]
  },
  {
   "attachments": {},
   "cell_type": "markdown",
   "id": "bb78fcb1",
   "metadata": {},
   "source": [
    "In order to build and create Jupyter Books, you will need to install the Jupyter Book package.\n",
    "\n",
    "You can install Jupyter Book by using the following pip command in your command terminal:"
   ]
  },
  {
   "cell_type": "code",
   "execution_count": null,
   "id": "bd8031bc",
   "metadata": {
    "vscode": {
     "languageId": "powershell"
    }
   },
   "outputs": [],
   "source": [
    "pip install -U jupyter-book"
   ]
  },
  {
   "attachments": {},
   "cell_type": "markdown",
   "id": "cdc145bc",
   "metadata": {},
   "source": [
    "Installation instructions for Jupyter Books can be found here: [Jupyter Book Installation Documentation](https://jupyterbook.org/en/stable/start/overview.html)"
   ]
  },
  {
   "attachments": {},
   "cell_type": "markdown",
   "id": "2691627f",
   "metadata": {},
   "source": [
    "### How to Convert Jupyter Notebooks and Jupyter Books to HTML and PDF {-}"
   ]
  },
  {
   "attachments": {},
   "cell_type": "markdown",
   "id": "b5a85fe1",
   "metadata": {},
   "source": [
    "Both Jupyter Notebooks and Books can be converted in order to be viewed as either PDF's or HTML's versions of themselves.\n",
    "\n",
    "Your command terminal must be working in the same directory as the Jupyter Notebook or Jupyter Book you wish to convert. An easy way to ensure this is to place the Jupyter Notebook or Jupyter Book you wish to convert on your desktop. You can then point your command terminal to your desktop by opening your command terminal and using the following command:"
   ]
  },
  {
   "cell_type": "code",
   "execution_count": null,
   "id": "56f2ba0c",
   "metadata": {
    "vscode": {
     "languageId": "powershell"
    }
   },
   "outputs": [],
   "source": [
    "cd desktop"
   ]
  },
  {
   "attachments": {},
   "cell_type": "markdown",
   "id": "e362abcd",
   "metadata": {},
   "source": [
    "You should now have your command terminal directed towards your desktop.\n",
    "\n",
    "Alternatively, the path to your Jupyter Notebook or Jupyter Book can be substituted for your Jupyter Notebook or Jupyter Books name in the following commands."
   ]
  },
  {
   "attachments": {},
   "cell_type": "markdown",
   "id": "f49f76bd",
   "metadata": {},
   "source": [
    "### Converting Jupyter Notebooks to HTML {-}"
   ]
  },
  {
   "attachments": {},
   "cell_type": "markdown",
   "id": "c18d8444",
   "metadata": {},
   "source": [
    "Jupyter Notebooks can be converted to HTML using the following command in your command terminal:"
   ]
  },
  {
   "cell_type": "code",
   "execution_count": null,
   "id": "2986a002",
   "metadata": {
    "vscode": {
     "languageId": "powershell"
    }
   },
   "outputs": [],
   "source": [
    "jupyter nbconvert --to html <YourNotebookName.ipynb>"
   ]
  },
  {
   "attachments": {},
   "cell_type": "markdown",
   "id": "4451c24c",
   "metadata": {},
   "source": [
    "Note that this requires that you have installed [nbconvert](#nbconvert-installation).\n",
    "\n",
    "Nbconvert provides three templates that can be used to style your html.  \n",
    "\n",
    "1. `--template lab` provides a full static HTML render of the Notebook. This is the default template that will be applied if no template is specified.\n",
    "2. `--template classic` provides simplified HTML using the classic jupyter look and feel.\n",
    "3. `--template basic` provides base HTML, rendering with minimal structure and styles.\n",
    "\n",
    "These templates can be applied by appending them to your conversion command as follows:"
   ]
  },
  {
   "cell_type": "code",
   "execution_count": null,
   "id": "49fd95f2",
   "metadata": {
    "vscode": {
     "languageId": "powershell"
    }
   },
   "outputs": [],
   "source": [
    "jupyter nbconvert --to html <YourNotebookName.ipynb> --template <style>"
   ]
  },
  {
   "attachments": {},
   "cell_type": "markdown",
   "id": "9a091504",
   "metadata": {},
   "source": [
    "Note that this requires you to have installed [Jupyter Labs](#jupyter-labs-installation) and [nbconvert](#nbconvert-installation).\n",
    "\n",
    "More information can be found here: [HTML Conversion of Jupyter Notebooks](https://nbconvert.readthedocs.io/en/latest/usage.html#html)"
   ]
  },
  {
   "attachments": {},
   "cell_type": "markdown",
   "id": "0999bd32",
   "metadata": {},
   "source": [
    "### Converting Jupyter Notebooks to PDF {-}"
   ]
  },
  {
   "attachments": {},
   "cell_type": "markdown",
   "id": "fdef916a",
   "metadata": {},
   "source": [
    "There are two ways of converting Jupyter Notebooks to PDF currently\n",
    "\n",
    "First is to use the following command in your command terminal:"
   ]
  },
  {
   "cell_type": "code",
   "execution_count": null,
   "id": "e861f20c",
   "metadata": {
    "vscode": {
     "languageId": "powershell"
    }
   },
   "outputs": [],
   "source": [
    "jupyter nbconvert --to pdf <YourNotebookName.ipynb>"
   ]
  },
  {
   "attachments": {},
   "cell_type": "markdown",
   "id": "71ab6721",
   "metadata": {},
   "source": [
    "Note that this requires you to have installed [Jupyter Labs](#jupyter-labs-installation) and [nbconvert](#nbconvert-installation) along with the [Tex environment](#tex-installation).\n",
    "\n",
    "More information can be found here: [PDF Conversion of Jupyter Notebooks](https://nbconvert.readthedocs.io/en/latest/usage.html#pdf)\n",
    "\n",
    "Second is to use the following command in your command terminal:"
   ]
  },
  {
   "cell_type": "code",
   "execution_count": null,
   "id": "f2549c4d",
   "metadata": {
    "vscode": {
     "languageId": "powershell"
    }
   },
   "outputs": [],
   "source": [
    "jupyter nbconvert --to webpdf <YourNotebookName.ipynb>"
   ]
  },
  {
   "attachments": {},
   "cell_type": "markdown",
   "id": "5070d106",
   "metadata": {},
   "source": [
    "Note that this requires you to have installed [Jupyter Labs](#jupyter-labs-installation) and [nbconvert](#nbconvert-installation) along with [pyppeteer](#pyppeteer-installation).\n",
    "\n",
    "Using the `--to webpdf` argument generates a PDF by first rendering your Jupyter Notebooks to HTML, as such, the templates that can be used for converting to HTML can be used with the `--to webpdf` argument.\n",
    "\n",
    "More information can be found here: [WebPDF Conversion of Jupyter Notebooks](https://nbconvert.readthedocs.io/en/latest/usage.html#webpdf)"
   ]
  },
  {
   "attachments": {},
   "cell_type": "markdown",
   "id": "ff14d25a",
   "metadata": {},
   "source": [
    "### Converting Jupyter Books to HTML {-}"
   ]
  },
  {
   "attachments": {},
   "cell_type": "markdown",
   "id": "591da8d5",
   "metadata": {},
   "source": [
    "Jupyter Books can be converted to HTML by 'building' the book.\n",
    "\n",
    "This can be done by using the following command in your command terminal:"
   ]
  },
  {
   "cell_type": "code",
   "execution_count": null,
   "id": "3b78e44b",
   "metadata": {
    "vscode": {
     "languageId": "powershell"
    }
   },
   "outputs": [],
   "source": [
    "jupyter-book build <YourBookName>"
   ]
  },
  {
   "attachments": {},
   "cell_type": "markdown",
   "id": "a130169e",
   "metadata": {},
   "source": [
    "Note that this requires you to have installed [Jupyter Books](#jupyter-books-installation).\n",
    "\n",
    "More information can be found here: [Build Your Jupyter Book](https://jupyterbook.org/en/stable/start/build.html)"
   ]
  },
  {
   "attachments": {},
   "cell_type": "markdown",
   "id": "17d4594b",
   "metadata": {},
   "source": [
    "### Converting Jupyter Books to PDF {-}"
   ]
  },
  {
   "attachments": {},
   "cell_type": "markdown",
   "id": "53da54f2",
   "metadata": {},
   "source": [
    "Jupyter Books can be converted to PDF by using the following command in your command terminal:"
   ]
  },
  {
   "cell_type": "code",
   "execution_count": null,
   "id": "dd147b84",
   "metadata": {
    "vscode": {
     "languageId": "powershell"
    }
   },
   "outputs": [],
   "source": [
    "jupyter-book build <YourBookName> --builder pdfhtml"
   ]
  },
  {
   "attachments": {},
   "cell_type": "markdown",
   "id": "e66a34cb",
   "metadata": {},
   "source": [
    "Note that requires you to have installed [Jupyter Books](#jupyter-books-installation) and [pyppeteer](#pyppeteer-installation).\n",
    "\n",
    "More information can be found here: [PDF Conversion of Jupyter Books](https://jupyterbook.org/en/stable/advanced/pdf.html)"
   ]
  }
 ],
 "metadata": {
  "kernelspec": {
   "display_name": "Python 3 (ipykernel)",
   "language": "python",
   "name": "python3"
  },
  "language_info": {
   "codemirror_mode": {
    "name": "ipython",
    "version": 3
   },
   "file_extension": ".py",
   "mimetype": "text/x-python",
   "name": "python",
   "nbconvert_exporter": "python",
   "pygments_lexer": "ipython3",
   "version": "3.9.2"
  }
 },
 "nbformat": 4,
 "nbformat_minor": 5
}
