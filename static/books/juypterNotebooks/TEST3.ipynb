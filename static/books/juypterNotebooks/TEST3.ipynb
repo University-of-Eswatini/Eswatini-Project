{
 "cells": [
  {
   "cell_type": "code",
   "execution_count": null,
   "metadata": {},
   "outputs": [],
   "source": [
    "Hey this is a test thing a ma jig"
   ]
  }
 ],
 "metadata": {
  "kernelspec": {
   "display_name": "Python 3",
   "language": "python",
   "name": "python3"
  },
  "language_info": {
   "name": "python",
   "version": "3.9.2"
  },
  "vscode": {
   "interpreter": {
    "hash": "174ee2c65c647e4acf613601a3dc09b0ddd535545e81189726e3e44b50fd1a10"
   }
  }
 },
 "nbformat": 4,
 "nbformat_minor": 5
}
